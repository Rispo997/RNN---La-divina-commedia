{
  "nbformat": 4,
  "nbformat_minor": 0,
  "metadata": {
    "colab": {
      "name": "ClassifyRhyme",
      "provenance": [],
      "collapsed_sections": [
        "J3RX4BoylNMo"
      ],
      "toc_visible": true
    },
    "kernelspec": {
      "name": "python3",
      "display_name": "Python 3"
    }
  },
  "cells": [
    {
      "cell_type": "markdown",
      "metadata": {
        "id": "aaRg1LXKdnwf"
      },
      "source": [
        "### File loading and import"
      ]
    },
    {
      "cell_type": "code",
      "metadata": {
        "colab": {
          "base_uri": "https://localhost:8080/"
        },
        "id": "Y2Koq1k_g0iy",
        "outputId": "3e203229-b267-4e07-af24-0dde5f3d5173"
      },
      "source": [
        "from google.colab import drive\n",
        "drive.mount('/content/gdrive')"
      ],
      "execution_count": null,
      "outputs": [
        {
          "output_type": "stream",
          "text": [
            "Drive already mounted at /content/gdrive; to attempt to forcibly remount, call drive.mount(\"/content/gdrive\", force_remount=True).\n"
          ],
          "name": "stdout"
        }
      ]
    },
    {
      "cell_type": "code",
      "metadata": {
        "id": "WFbykF1pf6oU"
      },
      "source": [
        "from google.colab import files\n",
        "import json\n",
        "with open(\"/content/gdrive/My Drive/DL_project/rhyme_classification.json\", encoding='latin-1') as file:\n",
        "    rhymes_dict = json.load(file)"
      ],
      "execution_count": null,
      "outputs": []
    },
    {
      "cell_type": "code",
      "metadata": {
        "id": "QYUwVtOugukd"
      },
      "source": [
        "import numpy as np\n",
        "from tensorflow.keras.layers import Embedding, Dense, Input, Dropout, TimeDistributed, Flatten, LSTM, Bidirectional, GlobalAveragePooling1D, Lambda\n",
        "from tensorflow.keras.models import Model, Sequential\n",
        "from tensorflow.keras.utils import to_categorical\n",
        "from tensorflow.keras.preprocessing.text import Tokenizer\n",
        "from tensorflow.keras.preprocessing.sequence import pad_sequences\n",
        "from tensorflow.keras.callbacks import EarlyStopping\n",
        "from sklearn.utils import shuffle\n",
        "from sklearn.model_selection import train_test_split\n",
        "from sklearn.metrics import accuracy_score, f1_score\n",
        "from sklearn.metrics.pairwise import cosine_similarity"
      ],
      "execution_count": null,
      "outputs": []
    },
    {
      "cell_type": "markdown",
      "metadata": {
        "id": "sCvglEEjdrz7"
      },
      "source": [
        "### Prepare dataset"
      ]
    },
    {
      "cell_type": "code",
      "metadata": {
        "id": "7lqd2zYYhHqS",
        "colab": {
          "base_uri": "https://localhost:8080/"
        },
        "outputId": "99cad26c-482b-4b3b-a777-54bf71ea4c24"
      },
      "source": [
        "words = []\n",
        "Y = []\n",
        "rhyme_idx = dict()\n",
        "for i,rhyme in enumerate(rhymes_dict):\n",
        "  rhyme_idx[i] = rhyme\n",
        "  for word in rhymes_dict[rhyme]:\n",
        "    words.append(word)\n",
        "    Y.append(i)\n",
        "\n",
        "num_rhymes = len(rhymes_dict)\n",
        "vocab_size = len(words)\n",
        "\n",
        "tokenizer = Tokenizer(num_words=vocab_size, lower=True, split=' ', char_level=True, oov_token=None)\n",
        "tokenizer.fit_on_texts(words)\n",
        "X = pad_sequences(tokenizer.texts_to_sequences(words), padding='pre', value=0)\n",
        "\n",
        "X = np.array(X)\n",
        "Y = to_categorical(Y, num_classes=num_rhymes)\n",
        "print(X.shape)\n",
        "print(Y.shape)\n",
        "\n",
        "X, Y = shuffle(X, Y)\n",
        "\n",
        "X_train, X_test, Y_train, Y_test = train_test_split(X, Y, test_size=0.2)"
      ],
      "execution_count": null,
      "outputs": [
        {
          "output_type": "stream",
          "text": [
            "(13712, 16)\n",
            "(13712, 1570)\n"
          ],
          "name": "stdout"
        }
      ]
    },
    {
      "cell_type": "markdown",
      "metadata": {
        "id": "J3RX4BoylNMo"
      },
      "source": [
        "### Plot learning graph"
      ]
    },
    {
      "cell_type": "code",
      "metadata": {
        "id": "MgTqHP36lLd3"
      },
      "source": [
        "\n",
        "from keras.callbacks import Callback\n",
        "\n",
        "from matplotlib import pyplot as plt\n",
        "from IPython.display import clear_output\n",
        "\n",
        "class PlotLearning(Callback):\n",
        "    def on_train_begin(self, logs={}):\n",
        "        self.i = 0\n",
        "        self.x = []\n",
        "        self.losses = []\n",
        "        self.val_losses = []\n",
        "        self.acc = []\n",
        "        self.val_acc = []\n",
        "        self.fig = plt.figure()\n",
        "        \n",
        "        self.logs = []\n",
        "\n",
        "    def on_epoch_end(self, epoch, logs={}):\n",
        "        \n",
        "        self.logs.append(logs)\n",
        "        self.x.append(self.i)\n",
        "        self.losses.append(logs.get('loss'))\n",
        "        self.val_losses.append(logs.get('val_loss'))\n",
        "        self.acc.append(logs.get('categorical_accuracy'))\n",
        "        self.val_acc.append(logs.get('val_categorical_accuracy'))\n",
        "        self.i += 1\n",
        "        f, (ax1, ax2) = plt.subplots(1, 2, sharex=True)\n",
        "        \n",
        "        clear_output(wait=True)\n",
        "        \n",
        "        ax1.set_yscale('log')\n",
        "        ax1.plot(self.x, self.losses, label=\"loss\")\n",
        "        ax1.plot(self.x, self.val_losses, label=\"val_loss\")\n",
        "        ax1.legend()\n",
        "        \n",
        "        ax2.plot(self.x, self.acc, label=\"categorical accuracy\")\n",
        "        ax2.plot(self.x, self.val_acc, label=\"val categorical accuracy\")\n",
        "        ax2.legend()\n",
        "\n",
        "        plt.show();"
      ],
      "execution_count": null,
      "outputs": []
    },
    {
      "cell_type": "markdown",
      "metadata": {
        "id": "GanIO2W4lUQn"
      },
      "source": [
        "### Models"
      ]
    },
    {
      "cell_type": "markdown",
      "metadata": {
        "id": "pKy8SQFukJxj"
      },
      "source": [
        "#### Embeddings model"
      ]
    },
    {
      "cell_type": "code",
      "metadata": {
        "colab": {
          "base_uri": "https://localhost:8080/"
        },
        "id": "JJi1FDjVkQXg",
        "outputId": "df579b73-b3d4-4495-ed95-2eb63a81bf0d"
      },
      "source": [
        "embeddding_size = 30\n",
        "\n",
        "input = Input(shape=(X_train.shape[1]))\n",
        "embedding = Embedding(vocab_size, embeddding_size, input_length=X_train.shape[1], mask_zero=True, embeddings_initializer='zeros')(input)\n",
        "flatten = Flatten()(embedding)\n",
        "#encoding = Dense(10, kernel_initializer='zeros', kernel_regularizer='l2')(flatten)\n",
        "#encoding = LSTM(10)(embedding)\n",
        "dense = Dense(num_rhymes, activation='softmax', kernel_regularizer='l2', trainable=True)(flatten)\n",
        "dropout = Dropout(0.2)(dense)\n",
        "model = Model(input, dropout)\n",
        "print(model.summary())"
      ],
      "execution_count": null,
      "outputs": [
        {
          "output_type": "stream",
          "text": [
            "Model: \"model_7\"\n",
            "_________________________________________________________________\n",
            "Layer (type)                 Output Shape              Param #   \n",
            "=================================================================\n",
            "input_5 (InputLayer)         [(None, 16)]              0         \n",
            "_________________________________________________________________\n",
            "embedding_2 (Embedding)      (None, 16, 30)            411360    \n",
            "_________________________________________________________________\n",
            "flatten_9 (Flatten)          (None, 480)               0         \n",
            "_________________________________________________________________\n",
            "dense_6 (Dense)              (None, 1570)              755170    \n",
            "_________________________________________________________________\n",
            "dropout_4 (Dropout)          (None, 1570)              0         \n",
            "=================================================================\n",
            "Total params: 1,166,530\n",
            "Trainable params: 1,166,530\n",
            "Non-trainable params: 0\n",
            "_________________________________________________________________\n",
            "None\n"
          ],
          "name": "stdout"
        }
      ]
    },
    {
      "cell_type": "code",
      "metadata": {
        "colab": {
          "base_uri": "https://localhost:8080/",
          "height": 300
        },
        "id": "e_tzpTqL5EM8",
        "outputId": "6c964a12-3746-4890-8e14-5528eab35f02"
      },
      "source": [
        "model.compile(loss='categorical_crossentropy', optimizer='adam', metrics=['categorical_accuracy'])\n",
        "es = EarlyStopping(monitor='categorical_accuracy', mode='max', verbose=2, patience=10)\n",
        "# Start Training\n",
        "model.fit(X_train, Y_train, batch_size=128, epochs=50, callbacks=[PlotLearning()], validation_split = 0.25, shuffle=True)"
      ],
      "execution_count": null,
      "outputs": [
        {
          "output_type": "display_data",
          "data": {
            "image/png": "[encoded data removed]",
            "text/plain": [
              "<Figure size 432x288 with 2 Axes>"
            ]
          },
          "metadata": {
            "tags": [],
            "needs_background": "light"
          }
        },
        {
          "output_type": "stream",
          "text": [
            "\b\b\b\b\b\b\b\b\b\b\b\b\b\b\b\b\b\b\b\b\b\b\b\b\b\b\b\b\b\b\b\b\b\b\b\b\b\b\b\b\b\b\b\b\b\b\b\b\b\b\b\b\b\b\b\b\b\b\b\b\b\b\b\b\b\b\b\b\b\b\b\b\b\b\b\b\b\b\b\b\b\b\b\b\b\b\b\b\b\b\b\b\b\b\r65/65 [==============================] - 3s 41ms/step - loss: 4.3559 - categorical_accuracy: 0.7153 - val_loss: 2.2318 - val_categorical_accuracy: 0.7751\n"
          ],
          "name": "stdout"
        },
        {
          "output_type": "execute_result",
          "data": {
            "text/plain": [
              "<tensorflow.python.keras.callbacks.History at 0x7f350a763f60>"
            ]
          },
          "metadata": {
            "tags": []
          },
          "execution_count": 237
        }
      ]
    },
    {
      "cell_type": "code",
      "metadata": {
        "colab": {
          "base_uri": "https://localhost:8080/"
        },
        "id": "WbJRYqnb-nsI",
        "outputId": "1bb6a532-1f08-478a-8557-576c7cb36b5f"
      },
      "source": [
        "predicted = np.array([np.argmax(p) for p in model.predict(X_test)])\n",
        "true = np.array([np.argmax(t) for t in Y_test])\n",
        "accuracy = accuracy_score(true, predicted)\n",
        "f1score = f1_score(true, predicted, average='macro')\n",
        "print(accuracy)\n",
        "print(f1score)"
      ],
      "execution_count": null,
      "outputs": [
        {
          "output_type": "stream",
          "text": [
            "0.7860007291286912\n",
            "0.4666485023951213\n"
          ],
          "name": "stdout"
        }
      ]
    },
    {
      "cell_type": "code",
      "metadata": {
        "colab": {
          "base_uri": "https://localhost:8080/"
        },
        "id": "e1ZYycoH38vv",
        "outputId": "8e7b3330-977a-4914-acbb-a523830b0533"
      },
      "source": [
        "embedding_model = Model(input, embedding, name=\"Embedding\")\n",
        "embedding_model.summary()\n",
        "embedding_model.save(\"EmbeddingModelRhyme.h5\")"
      ],
      "execution_count": null,
      "outputs": [
        {
          "output_type": "stream",
          "text": [
            "Model: \"Embedding\"\n",
            "_________________________________________________________________\n",
            "Layer (type)                 Output Shape              Param #   \n",
            "=================================================================\n",
            "input_2 (InputLayer)         [(None, 16)]              0         \n",
            "_________________________________________________________________\n",
            "model_1 (Functional)         (None, 16, 30)            411360    \n",
            "=================================================================\n",
            "Total params: 411,360\n",
            "Trainable params: 411,360\n",
            "Non-trainable params: 0\n",
            "_________________________________________________________________\n"
          ],
          "name": "stdout"
        }
      ]
    },
    {
      "cell_type": "code",
      "metadata": {
        "colab": {
          "base_uri": "https://localhost:8080/"
        },
        "id": "JvYWDbAFA_Ld",
        "outputId": "f681ff79-5402-415c-a50f-b21073d2087c"
      },
      "source": [
        "from tensorflow.keras.models import load_model\n",
        "embedding_model = load_model(\"EmbeddingModelRhyme.h5\")"
      ],
      "execution_count": null,
      "outputs": [
        {
          "output_type": "stream",
          "text": [
            "WARNING:tensorflow:No training configuration found in the save file, so the model was *not* compiled. Compile it manually.\n"
          ],
          "name": "stdout"
        }
      ]
    },
    {
      "cell_type": "markdown",
      "metadata": {
        "id": "W3YU9dgkkRnZ"
      },
      "source": [
        "#### Encoding model"
      ]
    },
    {
      "cell_type": "code",
      "metadata": {
        "colab": {
          "base_uri": "https://localhost:8080/"
        },
        "id": "gAzQ6qxMkEwj",
        "outputId": "fdbd6959-ed9f-4b2f-eaaf-8251ac0d7b2e"
      },
      "source": [
        "encdoding_dimension = 10\n",
        "input = Input(shape=(X_train.shape[1]), name=\"Input word\")\n",
        "embedding = embedding_model(input)\n",
        "flatten = Flatten()(embedding)\n",
        "#gpa = GlobalAveragePooling1D()(embedding)\n",
        "encoding = Dense(encdoding_dimension, kernel_initializer='zeros', name=\"Encoder\")(flatten)\n",
        "dense = Dense(num_rhymes, activation='softmax', kernel_regularizer='l2', trainable=True, name=\"Rhyme_classifier\")(encoding)\n",
        "dropout = Dropout(0.2)(dense)\n",
        "model = Model(input, dense)\n",
        "print(model.summary())"
      ],
      "execution_count": null,
      "outputs": [
        {
          "output_type": "stream",
          "text": [
            "Model: \"model_8\"\n",
            "_________________________________________________________________\n",
            "Layer (type)                 Output Shape              Param #   \n",
            "=================================================================\n",
            "Input word (InputLayer)      [(None, 16)]              0         \n",
            "_________________________________________________________________\n",
            "Embedding (Functional)       (None, 16, 30)            411360    \n",
            "_________________________________________________________________\n",
            "flatten_10 (Flatten)         (None, 480)               0         \n",
            "_________________________________________________________________\n",
            "Encoder (Dense)              (None, 10)                4810      \n",
            "_________________________________________________________________\n",
            "Rhyme_classifier (Dense)     (None, 1570)              17270     \n",
            "=================================================================\n",
            "Total params: 433,440\n",
            "Trainable params: 433,440\n",
            "Non-trainable params: 0\n",
            "_________________________________________________________________\n",
            "None\n"
          ],
          "name": "stdout"
        }
      ]
    },
    {
      "cell_type": "code",
      "metadata": {
        "colab": {
          "base_uri": "https://localhost:8080/",
          "height": 299
        },
        "id": "72yewzank5CE",
        "outputId": "3069fac3-e4b1-4ac0-baef-2fb9d0127305"
      },
      "source": [
        "model.compile(loss='categorical_crossentropy', optimizer='adam', metrics=['categorical_accuracy'])\n",
        "es = EarlyStopping(monitor='categorical_accuracy', mode='max', verbose=2, patience=10)\n",
        "# Start Training\n",
        "model.fit(X_train, Y_train, batch_size=128, epochs=10, callbacks=[PlotLearning()], validation_split = 0.25, shuffle=True)"
      ],
      "execution_count": null,
      "outputs": [
        {
          "output_type": "display_data",
          "data": {
            "image/png": "[encoded data removed]",
            "text/plain": [
              "<Figure size 432x288 with 2 Axes>"
            ]
          },
          "metadata": {
            "tags": [],
            "needs_background": "light"
          }
        },
        {
          "output_type": "stream",
          "text": [
            "\b\b\b\b\b\b\b\b\b\b\b\b\b\b\b\b\b\b\b\b\b\b\b\b\b\b\b\b\b\b\b\b\b\b\b\b\b\b\b\b\b\b\b\b\b\b\b\b\b\b\b\b\b\b\b\b\b\b\b\b\b\b\b\b\b\b\b\b\b\b\b\b\b\b\b\b\b\b\b\b\b\b\b\b\b\b\b\b\b\b\b\b\b\b\r65/65 [==============================] - 1s 22ms/step - loss: 3.5077 - categorical_accuracy: 0.7770 - val_loss: 1.4887 - val_categorical_accuracy: 0.8407\n"
          ],
          "name": "stdout"
        },
        {
          "output_type": "execute_result",
          "data": {
            "text/plain": [
              "<tensorflow.python.keras.callbacks.History at 0x7f3524614518>"
            ]
          },
          "metadata": {
            "tags": []
          },
          "execution_count": 229
        }
      ]
    },
    {
      "cell_type": "code",
      "metadata": {
        "colab": {
          "base_uri": "https://localhost:8080/"
        },
        "id": "m62Yw4lJlUqE",
        "outputId": "cce6891a-e517-4dd6-b4d7-c17a2606b357"
      },
      "source": [
        "predicted = np.array([np.argmax(p) for p in model.predict(X_test)])\n",
        "true = np.array([np.argmax(t) for t in Y_test])\n",
        "accuracy = accuracy_score(true, predicted)\n",
        "f1score = f1_score(true, predicted, average='macro')\n",
        "print(accuracy)\n",
        "print(f1score)"
      ],
      "execution_count": null,
      "outputs": [
        {
          "output_type": "stream",
          "text": [
            "0.8428727670433832\n",
            "0.572796883125297\n"
          ],
          "name": "stdout"
        }
      ]
    },
    {
      "cell_type": "code",
      "metadata": {
        "colab": {
          "base_uri": "https://localhost:8080/"
        },
        "id": "T_vGIEp-n1h6",
        "outputId": "73276265-2a10-49a0-a4e1-db8c6f95d2b1"
      },
      "source": [
        "encoding_model = Model(input, encoding)\n",
        "encoding_model.summary()\n",
        "encoding_model.save(\"EncodingModelRhyme100eEmbedding300e.h5\")"
      ],
      "execution_count": null,
      "outputs": [
        {
          "output_type": "stream",
          "text": [
            "Model: \"functional_30\"\n",
            "_________________________________________________________________\n",
            "Layer (type)                 Output Shape              Param #   \n",
            "=================================================================\n",
            "input_25 (InputLayer)        [(None, 16)]              0         \n",
            "_________________________________________________________________\n",
            "functional_24 (Functional)   (None, 160)               137120    \n",
            "_________________________________________________________________\n",
            "dense_15 (Dense)             (None, 10)                1610      \n",
            "=================================================================\n",
            "Total params: 138,730\n",
            "Trainable params: 138,730\n",
            "Non-trainable params: 0\n",
            "_________________________________________________________________\n"
          ],
          "name": "stdout"
        }
      ]
    },
    {
      "cell_type": "markdown",
      "metadata": {
        "id": "RLLPq9bLd3mL"
      },
      "source": [
        "### Metrics"
      ]
    },
    {
      "cell_type": "code",
      "metadata": {
        "id": "HlJazA4O3BIY"
      },
      "source": [
        "rhyme_scores = {rhyme: cosine_similarity([getEmbeddingVector(word) for word in rhymes_dict[rhyme]]) for i,rhyme in enumerate(rhymes_dict)}"
      ],
      "execution_count": null,
      "outputs": []
    },
    {
      "cell_type": "code",
      "metadata": {
        "colab": {
          "base_uri": "https://localhost:8080/"
        },
        "id": "DugfhNvK8CGx",
        "outputId": "79ce7523-01d8-413d-fb18-c3aba0084b42"
      },
      "source": [
        "mean_rhyme_scores = dict()\n",
        "for rhyme in rhyme_scores:\n",
        "  mean_rhyme_scores[rhyme] = np.mean(rhyme_scores[rhyme])\n",
        "scores = np.array([s for s in mean_rhyme_scores.values()])\n",
        "len(scores[scores>0.5])/len(scores)"
      ],
      "execution_count": null,
      "outputs": [
        {
          "output_type": "execute_result",
          "data": {
            "text/plain": [
              "0.9509554140127389"
            ]
          },
          "metadata": {
            "tags": []
          },
          "execution_count": 213
        }
      ]
    },
    {
      "cell_type": "code",
      "metadata": {
        "id": "fC736VYPBr87"
      },
      "source": [
        "import random\n",
        "\n",
        "def getEmbeddingVector(word):\n",
        "  return encoding_model.predict(pad_sequences([tokenizer.texts_to_sequences(word)], maxlen=16, padding='pre', value=0))[0]\n",
        "\n",
        "def getSimilarity(word1, word2):\n",
        "  w1 = getEmbeddingVector(word1).reshape(1, 10)\n",
        "  w2 = getEmbeddingVector(word2).reshape(1, 10)\n",
        "  return cosine_similarity(w1, w2)[0,0]\n",
        "\n",
        "def printInfo(scores, rhyme=True):\n",
        "  TAG = \"\" if rhyme else \"non \"\n",
        "  print(\"Numero parole testate: \", scores.shape[0])\n",
        "  print(\"Media similarità parole \"+TAG+\"in rima: \", np.mean(scores))\n",
        "  print(\"Percentuale parole similarità sopra 0.3: \", len(scores[scores>0.3])/len(scores))\n",
        "\n",
        "def compare(e1, e2, equal):\n",
        "  return e1 == e2 if equal else e1 != e2\n",
        "\n",
        "def getScores(words, words_to_rhymes, rhymes=True, num_words=100):\n",
        "  scores = []\n",
        "  for i in range(num_words):\n",
        "    random1 = random.randint(0,len(words)-1)\n",
        "    random2 = random.randint(0,len(words)-1)\n",
        "    while words[random1] not in words_to_rhymes or words[random2] not in words_to_rhymes or (compare(words_to_rhymes[words[random1]],  words_to_rhymes[words[random2]], not rhymes)):\n",
        "      random1 = random.randint(0,len(words)-1)\n",
        "      random2 = random.randint(0,len(words)-1)\n",
        "    w1 = words[random1]\n",
        "    w2 = words[random2]\n",
        "    s = getSimilarity(w1, w2)\n",
        "    scores.append(s)\n",
        "  return np.array(scores)"
      ],
      "execution_count": null,
      "outputs": []
    },
    {
      "cell_type": "code",
      "metadata": {
        "id": "EGIR_qEwdi27"
      },
      "source": [
        "words_to_rhymes = {w:k for k,l in rhymes_dict.items() for w in l}"
      ],
      "execution_count": null,
      "outputs": []
    },
    {
      "cell_type": "code",
      "metadata": {
        "id": "Y5ZocupsBXer"
      },
      "source": [
        "scores_rhyme = getScores(words, words_to_rhymes, True)\n",
        "scores_not_rhyme = getScores(words, words_to_rhymes, False, 1000)"
      ],
      "execution_count": null,
      "outputs": []
    },
    {
      "cell_type": "code",
      "metadata": {
        "colab": {
          "base_uri": "https://localhost:8080/"
        },
        "id": "PR2EMTruNgFH",
        "outputId": "bd5a585b-2a72-4d0e-a37c-85eb76596b6d"
      },
      "source": [
        "printInfo(scores_rhyme)\n",
        "printInfo(scores_not_rhyme, False)"
      ],
      "execution_count": null,
      "outputs": [
        {
          "output_type": "stream",
          "text": [
            "Numero parole testate:  100\n",
            "Media similarità parole in rima:  0.7391257\n",
            "Percentuale parole similarità sopra 0.3:  0.88\n",
            "Numero parole testate:  1000\n",
            "Media similarità parole non in rima:  -0.009094935\n",
            "Percentuale parole similarità sopra 0.3:  0.168\n"
          ],
          "name": "stdout"
        }
      ]
    }
  ]
}